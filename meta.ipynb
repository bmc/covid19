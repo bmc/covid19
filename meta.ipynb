{
 "cells": [
  {
   "cell_type": "markdown",
   "metadata": {},
   "source": [
    "# Meta\n",
    "\n",
    "This notebook is used to capture and save aspects of the Jupyter Docker environment."
   ]
  },
  {
   "cell_type": "code",
   "execution_count": 1,
   "metadata": {},
   "outputs": [],
   "source": [
    "# Create requirements.txt, containing the packages installed in the\n",
    "# container. This is useful for running the notebooks on, say, BinderHub.\n",
    "def save_pip_packages(out='requirements.txt'):\n",
    "    import subprocess\n",
    "    import sys\n",
    "    with subprocess.Popen([\"pip\", \"freeze\"], stdout=subprocess.PIPE) as proc:\n",
    "        with open(out, mode='wb') as r:\n",
    "            r.write(proc.stdout.read())\n",
    "\n",
    "save_pip_packages()"
   ]
  },
  {
   "cell_type": "code",
   "execution_count": null,
   "metadata": {},
   "outputs": [],
   "source": []
  }
 ],
 "metadata": {
  "kernelspec": {
   "display_name": "Python 3",
   "language": "python",
   "name": "python3"
  },
  "language_info": {
   "codemirror_mode": {
    "name": "ipython",
    "version": 3
   },
   "file_extension": ".py",
   "mimetype": "text/x-python",
   "name": "python",
   "nbconvert_exporter": "python",
   "pygments_lexer": "ipython3",
   "version": "3.7.6"
  }
 },
 "nbformat": 4,
 "nbformat_minor": 4
}
